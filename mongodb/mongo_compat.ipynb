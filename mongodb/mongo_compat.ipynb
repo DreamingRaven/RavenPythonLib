{
 "cells": [
  {
   "cell_type": "markdown",
   "metadata": {},
   "source": [
    "# mongo_compat wrapper for pymongo as Mongo()"
   ]
  },
  {
   "cell_type": "code",
   "execution_count": 2,
   "metadata": {},
   "outputs": [],
   "source": [
    "from mongo_compat import Mongo"
   ]
  },
  {
   "cell_type": "markdown",
   "metadata": {},
   "source": [
    "## creating a database object without overides\n",
    "/ with all the default values"
   ]
  },
  {
   "cell_type": "code",
   "execution_count": 3,
   "metadata": {},
   "outputs": [],
   "source": [
    "db = Mongo()"
   ]
  },
  {
   "cell_type": "markdown",
   "metadata": {},
   "source": [
    "### displaying the default values"
   ]
  },
  {
   "cell_type": "code",
   "execution_count": 17,
   "metadata": {},
   "outputs": [
    {
     "name": "stdout",
     "output_type": "stream",
     "text": [
      "{'mongoUser': 'groot', 'mongoPass': 'iamgroot', 'mongoAuth': 'SCRAM-SHA-1', 'userRole': 'readWrite', 'mongoIp': '127.0.0.1', 'mongoDbName': 'RecSyst', 'mongoCollName': 'testColl', 'mongoPort': '27017', 'mongoUrl': 'mongodb://localhost:27017/', 'mongoPath': '/home/archer/db', 'mongoLogPath': '/home/archer/db/log', 'mongoLogName': 'mongoLog', 'mongoCursorTimeout': 600000, 'pylog': <built-in function print>, 'mongoSsl': None, 'db': Database(MongoClient(host=['localhost:27017'], document_class=dict, tz_aware=False, connect=True, authsource='RecSyst', authmechanism='SCRAM-SHA-1'), 'RecSyst'), 'mongoProcess': <subprocess.Popen object at 0x7f8e39de45c0>, 'client': MongoClient(host=['localhost:27017'], document_class=dict, tz_aware=False, connect=True, authsource='RecSyst', authmechanism='SCRAM-SHA-1')}\n"
     ]
    }
   ],
   "source": [
    "db.debug()"
   ]
  },
  {
   "cell_type": "markdown",
   "metadata": {},
   "source": [
    "## init database\n",
    "includes generating paths of database and logging paths etc (we will leave them as defaults)"
   ]
  },
  {
   "cell_type": "code",
   "execution_count": 4,
   "metadata": {},
   "outputs": [
    {
     "name": "stdout",
     "output_type": "stream",
     "text": [
      "Adding  mongodb user: groot , role: readWrite , authdb: RecSyst\n",
      "groot@RecSyst already exists skipping.\n",
      "Shutting down MongoDB.\n"
     ]
    }
   ],
   "source": [
    "db.initDb()"
   ]
  },
  {
   "cell_type": "markdown",
   "metadata": {},
   "source": [
    "## starting the database now that the files exist"
   ]
  },
  {
   "cell_type": "code",
   "execution_count": 13,
   "metadata": {},
   "outputs": [
    {
     "name": "stdout",
     "output_type": "stream",
     "text": [
      "Starting mongodb: auth= SCRAM-SHA-1\n"
     ]
    }
   ],
   "source": [
    "db.start()"
   ]
  },
  {
   "cell_type": "markdown",
   "metadata": {},
   "source": [
    "## connecting and importing a document to the database"
   ]
  },
  {
   "cell_type": "code",
   "execution_count": 14,
   "metadata": {},
   "outputs": [],
   "source": [
    "db.connect()\n",
    "example = {\n",
    "    \"string\": \"99\",\n",
    "    \"number\": 99,\n",
    "    \"binary\": bin(99),\n",
    "    \"subdict\": {\"hello\": \"world\"},\n",
    "    \"subarray\": [{\"hello\": \"worlds\"},{\"hi\": \"jim\"}]\n",
    "}\n",
    "db.imports(collection=\"debug\", dictionary=example)"
   ]
  },
  {
   "cell_type": "markdown",
   "metadata": {},
   "source": [
    "## stopping the database"
   ]
  },
  {
   "cell_type": "code",
   "execution_count": 16,
   "metadata": {},
   "outputs": [
    {
     "name": "stdout",
     "output_type": "stream",
     "text": [
      "Shutting down MongoDB.\n"
     ]
    }
   ],
   "source": [
    "db.stop()"
   ]
  },
  {
   "cell_type": "markdown",
   "metadata": {},
   "source": [
    "## Quick help output so you can see the class"
   ]
  },
  {
   "cell_type": "code",
   "execution_count": 18,
   "metadata": {},
   "outputs": [
    {
     "name": "stdout",
     "output_type": "stream",
     "text": [
      "Help on Mongo in module mongo_compat object:\n",
      "\n",
      "class Mongo(builtins.object)\n",
      " |  Mongo(args: dict = None, logger=None) -> None\n",
      " |  \n",
      " |  Python2/3 compatible MongoDb utility wrapper.\n",
      " |  \n",
      " |  This wrapper saves its state in an internal overridable dictionary\n",
      " |  such that you can adapt it to your requirements, if you should need to do\n",
      " |  something unique, the caveat being it becomes harder to read.\n",
      " |  \n",
      " |  Methods defined here:\n",
      " |  \n",
      " |  __delitem__(self, key: str) -> None\n",
      " |      Delete a single arg or state by, (key, value).\n",
      " |  \n",
      " |  __getitem__(self, key: str) -> <built-in function any>\n",
      " |      Get a single arg or state by, (key, value).\n",
      " |  \n",
      " |  __init__(self, args: dict = None, logger=None) -> None\n",
      " |      Init class with defaults.\n",
      " |      \n",
      " |      optionally accepts dictionary of default overides.\n",
      " |  \n",
      " |  __iter__(self) -> <built-in function any>\n",
      " |      Iterate through housed dictionary, for looping.\n",
      " |  \n",
      " |  __len__(self) -> int\n",
      " |      Return the first order length of the dictionary.\n",
      " |  \n",
      " |  __setitem__(self, key: str, value: <built-in function any>) -> None\n",
      " |      Set a single arg or state by, (key, value).\n",
      " |  \n",
      " |  connect(self) -> None\n",
      " |      Connect to a specific mongodb database defined in args.\n",
      " |      \n",
      " |      Uses mongoUrl, mongoUser, mongoPass, mongoDbName.\n",
      " |  \n",
      " |  debug(self) -> None\n",
      " |      Log function to help track the internal state of the class.\n",
      " |  \n",
      " |  imports(self, collection, json=None, dictionary=None) -> None\n",
      " |      Import data of specified format into MongoDB.\n",
      " |      \n",
      " |      Takes a collection name and one of either json or dictionary and\n",
      " |      imports it to the specified collection.\n",
      " |  \n",
      " |  initDb(self) -> None\n",
      " |      Initialise the database.\n",
      " |      \n",
      " |      Includes ensuring db path and db log path exist and generating,\n",
      " |      creating the DB files, and adding an authentication user.\n",
      " |      All of this should be done on a localhost port so that the\n",
      " |      unprotected database is never exposed.\n",
      " |  \n",
      " |  login(self) -> None\n",
      " |      Log in to database, interupt, and availiable via cli.\n",
      " |  \n",
      " |  start(self) -> None\n",
      " |      Launch the database.\n",
      " |  \n",
      " |  stop(self) -> None\n",
      " |      Stop a running local database.\n",
      " |  \n",
      " |  ----------------------------------------------------------------------\n",
      " |  Data descriptors defined here:\n",
      " |  \n",
      " |  __dict__\n",
      " |      dictionary for instance variables (if defined)\n",
      " |  \n",
      " |  __weakref__\n",
      " |      list of weak references to the object (if defined)\n",
      "\n"
     ]
    }
   ],
   "source": [
    "help(Mongo())"
   ]
  }
 ],
 "metadata": {
  "kernelspec": {
   "display_name": "Python 3",
   "language": "python",
   "name": "python3"
  },
  "language_info": {
   "codemirror_mode": {
    "name": "ipython",
    "version": 3
   },
   "file_extension": ".py",
   "mimetype": "text/x-python",
   "name": "python",
   "nbconvert_exporter": "python",
   "pygments_lexer": "ipython3",
   "version": "3.7.3"
  }
 },
 "nbformat": 4,
 "nbformat_minor": 4
}
